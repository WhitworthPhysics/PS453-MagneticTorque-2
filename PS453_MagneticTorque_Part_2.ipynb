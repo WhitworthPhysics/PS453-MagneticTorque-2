{
  "nbformat": 4,
  "nbformat_minor": 0,
  "metadata": {
    "colab": {
      "name": "PS453-MagneticTorque-Part 2.ipynb",
      "provenance": [],
      "authorship_tag": "ABX9TyM1Kj3zw+QKj1KWYx2N7Eec"
    },
    "kernelspec": {
      "name": "python3",
      "display_name": "Python 3"
    }
  },
  "cells": [
    {
      "cell_type": "markdown",
      "metadata": {
        "id": "ZvAHOP7EqI6M"
      },
      "source": [
        "# Theoretical foundations"
      ]
    },
    {
      "cell_type": "markdown",
      "metadata": {
        "id": "ArUn-IKwqO0e"
      },
      "source": [
        "## Precessional motion method"
      ]
    },
    {
      "cell_type": "markdown",
      "metadata": {
        "id": "Hgd3LsQ0qVID"
      },
      "source": [
        "### Question 1\r\n",
        "What relationship exists between the net force on an object and that object’s change in linear momentum?\r\n",
        "\r\n"
      ]
    },
    {
      "cell_type": "markdown",
      "metadata": {
        "id": "Mod8hhRCrI2G"
      },
      "source": [
        ""
      ]
    },
    {
      "cell_type": "markdown",
      "metadata": {
        "id": "todQh-ivrJR9"
      },
      "source": [
        "### Question 2\r\n",
        "If an object experiences a force in the same direction as its linear momentum, does the magnitude of the linear momentum change? If so, how? Does the direction of the linear momentum change? If so, how?"
      ]
    },
    {
      "cell_type": "markdown",
      "metadata": {
        "id": "MpYO6fczrU46"
      },
      "source": [
        ""
      ]
    },
    {
      "cell_type": "markdown",
      "metadata": {
        "id": "MgOVTeGhsIUL"
      },
      "source": [
        "### Question 3\r\n",
        "If an object experiences a force perpendicular to its linear momentum, does the magnitude of the linear momentum change? If so, how? Does the direction of the linear momentum change? If so, how?"
      ]
    },
    {
      "cell_type": "markdown",
      "metadata": {
        "id": "xFWKverTsvS6"
      },
      "source": [
        ""
      ]
    },
    {
      "cell_type": "markdown",
      "metadata": {
        "id": "wUNvDF_jsv8A"
      },
      "source": [
        "### Question 4\r\n",
        "Describe the motion that results when an object experiences a force that is always perpendicular to its velocity."
      ]
    },
    {
      "cell_type": "markdown",
      "metadata": {
        "id": "3wH56vj5s3nY"
      },
      "source": [
        ""
      ]
    },
    {
      "cell_type": "markdown",
      "metadata": {
        "id": "xTAF_Jd_s4Fg"
      },
      "source": [
        "### Question 5\r\n",
        "What relationship exists between a torque on a body and that body’s change in angular momentum?"
      ]
    },
    {
      "cell_type": "markdown",
      "metadata": {
        "id": "kIBDICNktWzu"
      },
      "source": [
        ""
      ]
    },
    {
      "cell_type": "markdown",
      "metadata": {
        "id": "hv-SqFldtXWc"
      },
      "source": [
        "### Question 6\r\n",
        "Suppose an object were rotating as shown in the figure in the lab guide. What direction is its angular momentum (in Cartesian coordinates)?"
      ]
    },
    {
      "cell_type": "markdown",
      "metadata": {
        "id": "5_3A9DUStqy6"
      },
      "source": [
        ""
      ]
    },
    {
      "cell_type": "markdown",
      "metadata": {
        "id": "rWbn6GTTtrOr"
      },
      "source": [
        "### Question 7\r\n",
        "Suppose that the ball in the figure in the lab guide was just released from rest. What is the direction of the resulting angular momentum?"
      ]
    },
    {
      "cell_type": "markdown",
      "metadata": {
        "id": "90FjPbgMt0wN"
      },
      "source": [
        ""
      ]
    },
    {
      "cell_type": "markdown",
      "metadata": {
        "id": "VOf-el9Et1Tw"
      },
      "source": [
        "### Question 8\r\n",
        "Is the angular momentum vector in Question 7 parallel, anti-parallel, or perpendicular to the torque vector?"
      ]
    },
    {
      "cell_type": "markdown",
      "metadata": {
        "id": "ZbF8f-x5vO8g"
      },
      "source": [
        ""
      ]
    },
    {
      "cell_type": "markdown",
      "metadata": {
        "id": "TJGzBcWOvOiI"
      },
      "source": [
        "### Question 9\r\n",
        "Does the magnitude of the angular momentum vector change in the situation described in Question 7? If so, how?"
      ]
    },
    {
      "cell_type": "markdown",
      "metadata": {
        "id": "ub59kcITvoMI"
      },
      "source": [
        ""
      ]
    },
    {
      "cell_type": "markdown",
      "metadata": {
        "id": "xkeB2KqBvn8F"
      },
      "source": [
        "### Question 10\r\n",
        "Does the direction of the angular momentum vector change in the situation described in Question 7? If so, how?"
      ]
    },
    {
      "cell_type": "markdown",
      "metadata": {
        "id": "5dzq0f7Cv8ch"
      },
      "source": [
        ""
      ]
    },
    {
      "cell_type": "markdown",
      "metadata": {
        "id": "iRwGEcvXv83p"
      },
      "source": [
        "### Question 11\r\n",
        "Now suppose that the ball is given a large spin angular momentum about its handle’s axis before being released from rest, as shown in the picture in the lab guide. Is the magnetic torque on the ball parallel, anti-parallel, or perpendicular to the spin angular momentum?"
      ]
    },
    {
      "cell_type": "markdown",
      "metadata": {
        "id": "z8YSoCAhwEUz"
      },
      "source": [
        ""
      ]
    },
    {
      "cell_type": "markdown",
      "metadata": {
        "id": "Yrwme0IRwEBD"
      },
      "source": [
        "### Question 12\r\n",
        "Does the magnitude of the angular momentum vector change in the situation described in Question 11? If so, how?"
      ]
    },
    {
      "cell_type": "markdown",
      "metadata": {
        "id": "mMc9a2T0wODf"
      },
      "source": [
        ""
      ]
    },
    {
      "cell_type": "markdown",
      "metadata": {
        "id": "4iFpPd6TwPHx"
      },
      "source": [
        "### Question 13\r\n",
        "Does the direction of the angular momentum vector change in the situation described in Question 11? If so, how?"
      ]
    },
    {
      "cell_type": "markdown",
      "metadata": {
        "id": "I8nm5OO7wXCX"
      },
      "source": [
        ""
      ]
    },
    {
      "cell_type": "markdown",
      "metadata": {
        "id": "ftiaNIg_wXkN"
      },
      "source": [
        "### Question 14\r\n",
        "The situation described in Question 11 is mathematically identical to the situation described in Question 3 and 4. Are your answers to Questions 12 and 13 consistent with the answers to the analogous linear motion situation?"
      ]
    },
    {
      "cell_type": "markdown",
      "metadata": {
        "id": "6nm0SEOOwjJx"
      },
      "source": [
        ""
      ]
    },
    {
      "cell_type": "markdown",
      "metadata": {
        "id": "ifBfw_GYwjly"
      },
      "source": [
        "### Question 15\r\n",
        "Describe the resulting motion of the ball in the situation given in Question 11."
      ]
    },
    {
      "cell_type": "markdown",
      "metadata": {
        "id": "nwG3suxBwokC"
      },
      "source": [
        ""
      ]
    },
    {
      "cell_type": "markdown",
      "metadata": {
        "id": "NdlS91wjw4u2"
      },
      "source": [
        "### Question 16\r\n",
        "Let $\\omega$ be the angular velocity of the ball about the handle. What is $L_s$ in terms of $I_\\mathrm{ball}$ and $\\omega$?"
      ]
    },
    {
      "cell_type": "markdown",
      "metadata": {
        "id": "xNX3phII00le"
      },
      "source": [
        ""
      ]
    },
    {
      "cell_type": "markdown",
      "metadata": {
        "id": "FroqteYg01D_"
      },
      "source": [
        "### Question 17\r\n",
        "_Refer to the figure in the lab guide._\r\n",
        "\r\n",
        "A side view of the angular momentum vector for this system is shown at $t=0$. What is $L_\\mathrm{s,\\perp}$ (the magnitude of the component of the angular momentum perpendicular to $\\vec{B}$) in terms of $L_s$ and $\\theta$?"
      ]
    },
    {
      "cell_type": "markdown",
      "metadata": {
        "id": "MFfywKNS1Aip"
      },
      "source": [
        ""
      ]
    },
    {
      "cell_type": "markdown",
      "metadata": {
        "id": "5Dw-w9Mz1ACT"
      },
      "source": [
        "### Question 18\r\n",
        "Now we look at the same situation from above with $L_{s,\\perp}$ shown at $t=0$ (corresponding to the picture in Questions 11 and 17) as well as a short while later at $t=dt$. The angle $d\\phi$ is exaggerated in the figure to make visualization easier, but is actually infinitesimally small. What is $dL$ in terms of $L_{s,\\perp}$ and $d\\phi$? The angle is so small that the length $dL$ can be approximated as being equal to the arc length that would be swept out as a line of constant length $L_{s,\\perp}$ swings through an angle $d\\phi$."
      ]
    },
    {
      "cell_type": "markdown",
      "metadata": {
        "id": "Cc1X59ff1dYt"
      },
      "source": [
        ""
      ]
    },
    {
      "cell_type": "markdown",
      "metadata": {
        "id": "LkjFztOl1d09"
      },
      "source": [
        "### Question 19\r\n",
        "Divide both sides of the previous equation by $dt$. The quantity $d\\phi/dt$ is the precessional angular velocity and will be denoted by the symbol $\\Omega_p$. Using your answer to Question 17, rewrite your equation for $dL/dt$ in terms of $L_s$, $\\theta$, and $\\Omega_p$."
      ]
    },
    {
      "cell_type": "markdown",
      "metadata": {
        "id": "UUGeD_ry1sQK"
      },
      "source": [
        ""
      ]
    },
    {
      "cell_type": "markdown",
      "metadata": {
        "id": "CIlUOBR61stM"
      },
      "source": [
        "### Question 20\r\n",
        "What is the magnitude of the torque on the ball at the instant shown in Question 11?"
      ]
    },
    {
      "cell_type": "markdown",
      "metadata": {
        "id": "TIr230D717So"
      },
      "source": [
        ""
      ]
    },
    {
      "cell_type": "markdown",
      "metadata": {
        "id": "lXlmY5M4178a"
      },
      "source": [
        "### Question 21\r\n",
        "Another equation for $dL/dt$ can be obtained by combining your answers to Questions 5 and 20. Write this equation for $dL/dt$ in terms of $m$, $B$, and $\\theta$."
      ]
    },
    {
      "cell_type": "markdown",
      "metadata": {
        "id": "DEaJ444V2qNX"
      },
      "source": [
        ""
      ]
    },
    {
      "cell_type": "markdown",
      "metadata": {
        "id": "H7sWLqcy2qth"
      },
      "source": [
        "### Question 22\r\n",
        "Write an equation for $\\Omega_p$ in terms of $m$, $B$, $I_\\mathrm{ball}$, and $\\omega$."
      ]
    },
    {
      "cell_type": "markdown",
      "metadata": {
        "id": "O6mHnwAi2-Ml"
      },
      "source": [
        ""
      ]
    },
    {
      "cell_type": "markdown",
      "metadata": {
        "id": "1TZfMLQN2-np"
      },
      "source": [
        "### Question 23\r\n",
        "There are two different angular velocities in this experiment. We track both of them by observing the handle on the ball. This handle has a white dot on one edge of its tip to help with that task. Describe how you will know when one revolution corresponding to the $\\omega$ motion has taken place. Describe how you will know when one revolution corresponding to the $\\Omega_p$ motion has taken place."
      ]
    },
    {
      "cell_type": "markdown",
      "metadata": {
        "id": "c0NEugS43UzF"
      },
      "source": [
        ""
      ]
    },
    {
      "cell_type": "markdown",
      "metadata": {
        "id": "-4z19kQ13VM1"
      },
      "source": [
        "### Question 24\r\n",
        "In the experiment, you will actually measure the precessional period, $T_p$, rather than the precessional angular velocity. Write an equation for $T_p$ in terms of $m$, $B$, $I_\\mathrm{ball}$, and $\\omega$."
      ]
    },
    {
      "cell_type": "markdown",
      "metadata": {
        "id": "gL1U40ts3fGV"
      },
      "source": [
        ""
      ]
    },
    {
      "cell_type": "markdown",
      "metadata": {
        "id": "ue0vFu_33ncB"
      },
      "source": [
        "### Question 25\r\n",
        "You will use a stopwatch to measure $T_p$. The Magnetic Torque apparatus has a built-in strobe light that can be set to a particular frequency. Explain how you can use this strobe light to determine $\\omega$."
      ]
    },
    {
      "cell_type": "markdown",
      "metadata": {
        "id": "DvTEFXX73_Nt"
      },
      "source": [
        ""
      ]
    },
    {
      "cell_type": "markdown",
      "metadata": {
        "id": "Vh_s4iyw3_p_"
      },
      "source": [
        "### Question 26\r\n",
        "This experiment is more challenging than the previous ones because there are now three variables: $T_p$, $B$, and $\\omega$. There is no easy way to directly set $\\omega$ other than to spin it slightly too fast and then let friction slow it to the desired value. It is therefore best to stick with a constant value of $\\omega$ for all of your measurements and instead vary $B$ (which is proportional to the coil current) and measure the resulting $T_p$. Is there some way to plot this data in order to produce a straight line graph?"
      ]
    },
    {
      "cell_type": "markdown",
      "metadata": {
        "id": "aGbT3Xfl4FJO"
      },
      "source": [
        ""
      ]
    },
    {
      "cell_type": "markdown",
      "metadata": {
        "id": "v5HLMbev4E4n"
      },
      "source": [
        "### Question 27\r\n",
        "How can the magnetic dipole moment be determined from this straight line graph?"
      ]
    },
    {
      "cell_type": "markdown",
      "metadata": {
        "id": "fk5LptaY4Mi6"
      },
      "source": [
        ""
      ]
    },
    {
      "cell_type": "markdown",
      "metadata": {
        "id": "TJ-5N9D44NAv"
      },
      "source": [
        "### Question 28\r\n",
        "You will use a stopwatch to measure the precessional period. Which produces more confidence and accuracy in your period measurement: making multiple measurements of one period and then averaging those or making a single measurement of multiple periods? Explain."
      ]
    },
    {
      "cell_type": "markdown",
      "metadata": {
        "id": "eUJP6EkT4SgF"
      },
      "source": [
        ""
      ]
    },
    {
      "cell_type": "markdown",
      "metadata": {
        "id": "9gUGBCfd4S90"
      },
      "source": [
        "### Question 29\r\n",
        "Which produces more evenly spaced data points on your straight-line graph (as identified in Question 26):\r\n",
        "\r\n",
        "1. making more period measurements at higher magnetic fields than at lower fields,\r\n",
        "2. making more period measurements at lower fields than at higher fields, or\r\n",
        "3. making the same amount of measurements at low, medium, and high fields?"
      ]
    },
    {
      "cell_type": "markdown",
      "metadata": {
        "id": "YnGoM_Lv4Xug"
      },
      "source": [
        ""
      ]
    },
    {
      "cell_type": "markdown",
      "metadata": {
        "id": "xteXZnu94m_o"
      },
      "source": [
        "# Data and analysis"
      ]
    },
    {
      "cell_type": "markdown",
      "metadata": {
        "id": "lZ-1IKN94qz6"
      },
      "source": [
        "## Equipment\r\n",
        "\r\n",
        "| Description | Manufacturer | Model | ID or SN |\r\n",
        "| ----------- | ------------ | ----- | -------- |\r\n",
        "| Magnetic Torque apparatus | TeachSpin | fill in | fill in |\r\n",
        "| balance | fill in | fill in | fill in |\r\n",
        "| stopwatch| fill in | fill in | N/A |\r\n",
        "| calipers | N/A | N/A | N/A |\r\n",
        "\r\n",
        "\r\n",
        "_You should replace the **fill in** entries with appropriate info._"
      ]
    },
    {
      "cell_type": "markdown",
      "metadata": {
        "id": "lOVYElBq6CoZ"
      },
      "source": [
        "## Given constants"
      ]
    },
    {
      "cell_type": "code",
      "metadata": {
        "id": "mOed0sj36CIg"
      },
      "source": [
        "alpha = 1.36e-3; # prop between field and current (in T/A)"
      ],
      "execution_count": null,
      "outputs": []
    },
    {
      "cell_type": "markdown",
      "metadata": {
        "id": "b8TLwgo85XOx"
      },
      "source": [
        "## Measured constant values"
      ]
    },
    {
      "cell_type": "code",
      "metadata": {
        "id": "SXdYsnvn1clk"
      },
      "source": [
        "R = ??? # radius of ball (in m)\r\n",
        "Mball = ??? # mass of ball (in kg)"
      ],
      "execution_count": null,
      "outputs": []
    },
    {
      "cell_type": "markdown",
      "metadata": {
        "id": "l9wl3AoW6YYa"
      },
      "source": [
        "## Install and import libraries"
      ]
    },
    {
      "cell_type": "code",
      "metadata": {
        "id": "xI6JFKNW6bWp"
      },
      "source": [
        "!pip install whit-phys-util"
      ],
      "execution_count": null,
      "outputs": []
    },
    {
      "cell_type": "code",
      "metadata": {
        "id": "NTLY2er16_kv"
      },
      "source": [
        "import numpy as np\r\n",
        "import pandas as pd\r\n",
        "import matplotlib.pyplot as plt\r\n",
        "import whit_phys_util as buc"
      ],
      "execution_count": null,
      "outputs": []
    },
    {
      "cell_type": "markdown",
      "metadata": {
        "id": "UUC37QR77KMo"
      },
      "source": [
        "## Connect to GitHub"
      ]
    },
    {
      "cell_type": "code",
      "metadata": {
        "id": "MZdRvKVk7MX0"
      },
      "source": [
        "repo = buc.local_repository(\"replace me\")"
      ],
      "execution_count": null,
      "outputs": []
    },
    {
      "cell_type": "markdown",
      "metadata": {
        "id": "E-LiahBV7ZLA"
      },
      "source": [
        "## Precessional motion method"
      ]
    },
    {
      "cell_type": "code",
      "metadata": {
        "id": "_05ygc3s7bqd"
      },
      "source": [
        ""
      ],
      "execution_count": null,
      "outputs": []
    },
    {
      "cell_type": "code",
      "metadata": {
        "id": "MYYgRa6o7gKk"
      },
      "source": [
        ""
      ],
      "execution_count": null,
      "outputs": []
    }
  ]
}